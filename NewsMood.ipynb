{
 "cells": [
  {
   "cell_type": "markdown",
   "metadata": {},
   "source": [
    "# News Mode"
   ]
  },
  {
   "cell_type": "markdown",
   "metadata": {},
   "source": [
    "1. As of today, the overall sentiment in news organization is negative, with exception of NY Times, which is slightly positive\n",
    "2. Among all news organizations, BBSWord is most negative\n",
    "3. New York Times tend to be more positive among the news orgazniations.\n",
    "4. There are significant number of zero's\n",
    "\n",
    "BTW:\n",
    "\n",
    "- I could not find exact match for BBC, so I use BBCWord instead.\n",
    "- For CBS, I pick CBSNews instead of CBS as CBS in general include not just news, but also entertainments etc.\n",
    "- There is no twitter handle called FOX, so I pick FoxNewws instead\n",
    "- For nytimnes, I see the example use 'New York Times' and \"NYT' but I stil to nytimes, as it is more consistent this way.\n",
    "\n",
    "\n",
    "TODO:\n",
    "- axes.titlesize seems does not work.\n",
    "- For scatter plot, legend got cut off in exported png file."
   ]
  },
  {
   "cell_type": "markdown",
   "metadata": {},
   "source": [
    "## Imports"
   ]
  },
  {
   "cell_type": "code",
   "execution_count": 9,
   "metadata": {},
   "outputs": [],
   "source": [
    "# Core\n",
    "from datetime import date\n",
    "from operator import itemgetter\n",
    "import json\n",
    "\n",
    "# Numpy, Pandas and PyPlot\n",
    "import numpy as np\n",
    "import pandas as pd\n",
    "import matplotlib.pyplot as plt\n",
    "import seaborn as sns\n",
    "\n",
    "sns.set()\n",
    "sns.set_style(\n",
    "    'darkgrid', \n",
    "    {\n",
    "        'axes.facecolor': '0.9',\n",
    "        'axes.titlesize': 'x-large',\n",
    "        'figure.titlesize': 'x-large',\n",
    "    }\n",
    ")\n",
    "\n",
    "# API\n",
    "import tweepy\n",
    "from textblob import TextBlob\n",
    "from vaderSentiment.vaderSentiment import SentimentIntensityAnalyzer\n",
    "\n",
    "# Own\n",
    "from twitter_config import *"
   ]
  },
  {
   "cell_type": "markdown",
   "metadata": {},
   "source": [
    "## Gobals & Constants"
   ]
  },
  {
   "cell_type": "code",
   "execution_count": 10,
   "metadata": {},
   "outputs": [],
   "source": [
    "PAGE_SIZE = 5\n",
    "PAGES = 2\n",
    "MEDIA_SOURCES = ['BBCWorld', 'CBSNews', 'CNN', 'FoxNews', 'nytimes']\n",
    "SCORES = ['compound', 'neg', 'pos', 'neu']\n",
    "\n",
    "COLORS = {\n",
    "    'BBCWorld': 'lightskyblue',\n",
    "    'CBSNews': 'green',\n",
    "    'CNN': 'lightcoral',\n",
    "    'FoxNews': 'blue',\n",
    "    'nytimes': 'gold'\n",
    "}\n",
    "\n",
    "TODAY = date.today().strftime('%m/%d/%y')\n",
    "\n",
    "_AUTH = tweepy.OAuthHandler(TWITTER_CONSUMER_KEY, TWITTER_CONSUMER_SECRET)\n",
    "_AUTH.set_access_token(TWITTER_ACCESS_TOKEN, TWITTER_TOKEN_SECRET)\n",
    "\n",
    "TWITTER_API = tweepy.API(_AUTH, parser=tweepy.parsers.JSONParser())\n",
    "SENTIMENT_ANALYZER = SentimentIntensityAnalyzer()"
   ]
  },
  {
   "cell_type": "markdown",
   "metadata": {},
   "source": [
    "## Gather Data\n",
    "Use multil-index to better organize the data"
   ]
  },
  {
   "cell_type": "code",
   "execution_count": 11,
   "metadata": {},
   "outputs": [
    {
     "data": {
      "text/html": [
       "<div>\n",
       "<style>\n",
       "    .dataframe thead tr:only-child th {\n",
       "        text-align: right;\n",
       "    }\n",
       "\n",
       "    .dataframe thead th {\n",
       "        text-align: left;\n",
       "    }\n",
       "\n",
       "    .dataframe tbody tr th {\n",
       "        vertical-align: top;\n",
       "    }\n",
       "</style>\n",
       "<table border=\"1\" class=\"dataframe\">\n",
       "  <thead>\n",
       "    <tr style=\"text-align: right;\">\n",
       "      <th></th>\n",
       "      <th></th>\n",
       "      <th>compound</th>\n",
       "      <th>neg</th>\n",
       "      <th>pos</th>\n",
       "      <th>neu</th>\n",
       "    </tr>\n",
       "    <tr>\n",
       "      <th>Media Sources</th>\n",
       "      <th>Tweets Ago</th>\n",
       "      <th></th>\n",
       "      <th></th>\n",
       "      <th></th>\n",
       "      <th></th>\n",
       "    </tr>\n",
       "  </thead>\n",
       "  <tbody>\n",
       "    <tr>\n",
       "      <th rowspan=\"5\" valign=\"top\">BBCWorld</th>\n",
       "      <th>0</th>\n",
       "      <td>0</td>\n",
       "      <td>0</td>\n",
       "      <td>0</td>\n",
       "      <td>1</td>\n",
       "    </tr>\n",
       "    <tr>\n",
       "      <th>1</th>\n",
       "      <td>0</td>\n",
       "      <td>0</td>\n",
       "      <td>0</td>\n",
       "      <td>1</td>\n",
       "    </tr>\n",
       "    <tr>\n",
       "      <th>2</th>\n",
       "      <td>0.5719</td>\n",
       "      <td>0</td>\n",
       "      <td>0.346</td>\n",
       "      <td>0.654</td>\n",
       "    </tr>\n",
       "    <tr>\n",
       "      <th>3</th>\n",
       "      <td>-0.5994</td>\n",
       "      <td>0.358</td>\n",
       "      <td>0</td>\n",
       "      <td>0.642</td>\n",
       "    </tr>\n",
       "    <tr>\n",
       "      <th>4</th>\n",
       "      <td>0</td>\n",
       "      <td>0</td>\n",
       "      <td>0</td>\n",
       "      <td>1</td>\n",
       "    </tr>\n",
       "  </tbody>\n",
       "</table>\n",
       "</div>"
      ],
      "text/plain": [
       "                         compound    neg    pos    neu\n",
       "Media Sources Tweets Ago                              \n",
       "BBCWorld      0                 0      0      0      1\n",
       "              1                 0      0      0      1\n",
       "              2            0.5719      0  0.346  0.654\n",
       "              3           -0.5994  0.358      0  0.642\n",
       "              4                 0      0      0      1"
      ]
     },
     "execution_count": 11,
     "metadata": {},
     "output_type": "execute_result"
    }
   ],
   "source": [
    "df = pd.DataFrame(\n",
    "    index=pd.MultiIndex.from_product(\n",
    "        [MEDIA_SOURCES, list(range(PAGE_SIZE * PAGES))],\n",
    "        names=['Media Sources', 'Tweets Ago']\n",
    "    ),\n",
    "    columns=SCORES\n",
    ")\n",
    "\n",
    "for media_source in MEDIA_SOURCES:\n",
    "    tweets_ago = 0\n",
    "    for page in range(PAGES):\n",
    "        for tweet in TWITTER_API.user_timeline(media_source, count=PAGE_SIZE, page=page):\n",
    "            df.loc[(media_source, tweets_ago), SCORES] = itemgetter(*SCORES)(\n",
    "                SENTIMENT_ANALYZER.polarity_scores(tweet['text']))\n",
    "            tweets_ago += 1    \n",
    "df.head()"
   ]
  },
  {
   "cell_type": "code",
   "execution_count": 12,
   "metadata": {
    "collapsed": true
   },
   "outputs": [],
   "source": [
    "### Export to CSV"
   ]
  },
  {
   "cell_type": "code",
   "execution_count": 13,
   "metadata": {},
   "outputs": [],
   "source": [
    "df.to_csv('NewsMode.csv')"
   ]
  },
  {
   "cell_type": "markdown",
   "metadata": {},
   "source": [
    "### Sentiment Scater Plot"
   ]
  },
  {
   "cell_type": "code",
   "execution_count": 19,
   "metadata": {
    "scrolled": false
   },
   "outputs": [
    {
     "data": {
      "image/png": "[encoded data removed]",
      "text/plain": [
       "<matplotlib.figure.Figure at 0x1c25f2dd128>"
      ]
     },
     "metadata": {},
     "output_type": "display_data"
    }
   ],
   "source": [
    "fig, ax = plt.subplots(figsize=(8, 6))\n",
    "\n",
    "for media_source in MEDIA_SOURCES:\n",
    "    df_media = df.loc[media_source]\n",
    "    ax.scatter(\n",
    "        x=df_media.index,\n",
    "        y=df_media['compound'],\n",
    "        c=COLORS[media_source],\n",
    "        marker='o',\n",
    "        alpha=0.8,\n",
    "        edgecolor='black',\n",
    "        label=media_source\n",
    "    )\n",
    "\n",
    "ax.legend(\n",
    "    title='Media Sources',\n",
    "    bbox_to_anchor=(1.22, 1)\n",
    ")\n",
    "\n",
    "plt.gca().invert_xaxis()\n",
    "plt.title(f'Sentiment Analysis of Media Tweets ({TODAY})\\n', fontsize=20)\n",
    "plt.xlabel('Tweets Ago')\n",
    "plt.ylabel('Tweet Polarity')\n",
    "plt.savefig('NewsMode_scatter.png', bbox_inches='tight')\n",
    "plt.show()"
   ]
  },
  {
   "cell_type": "markdown",
   "metadata": {},
   "source": [
    "### Sentiment Averages"
   ]
  },
  {
   "cell_type": "code",
   "execution_count": 15,
   "metadata": {},
   "outputs": [
    {
     "data": {
      "text/plain": [
       "Media Sources\n",
       "BBCWorld   -0.00550\n",
       "CBSNews    -0.45930\n",
       "CNN         0.08632\n",
       "FoxNews     0.34864\n",
       "nytimes    -0.09284\n",
       "Name: compound, dtype: float64"
      ]
     },
     "execution_count": 15,
     "metadata": {},
     "output_type": "execute_result"
    }
   ],
   "source": [
    "df_mean = pd.to_numeric(df['compound']).groupby('Media Sources').mean()\n",
    "df_mean"
   ]
  },
  {
   "cell_type": "code",
   "execution_count": 16,
   "metadata": {},
   "outputs": [
    {
     "data": {
      "image/png": "[encoded data removed]",
      "text/plain": [
       "<matplotlib.figure.Figure at 0x1c25f2bd048>"
      ]
     },
     "metadata": {},
     "output_type": "display_data"
    }
   ],
   "source": [
    "fig, ax = plt.subplots(figsize=(10, 6))\n",
    "\n",
    "bars = ax.bar(\n",
    "    MEDIA_SOURCES,\n",
    "    df_mean,\n",
    "    align='edge',\n",
    "    width=1,\n",
    "    edgecolor='black',\n",
    "    color=[COLORS[m] for m in MEDIA_SOURCES],\n",
    "    linewidth=1,\n",
    "    alpha=0.8,\n",
    ")\n",
    "\n",
    "plt.title(f'Overall Media Sentiment based on Twitter ({TODAY})\\n',\n",
    "          fontsize=20)\n",
    "plt.ylabel('Tweet Polarity')\n",
    "plt.xticks(np.arange(0.5, len(MEDIA_SOURCES)), rotation=0)\n",
    "\n",
    "# Add labels\n",
    "for bar in bars:\n",
    "    height = bar.get_height()\n",
    "    ax.text(bar.get_x() + 0.35, \n",
    "            0.01 if height < 0 else -0.02, \n",
    "            '{:.2f}'.format(height))\n",
    "    \n",
    "plt.savefig('NewsMode_bar.png')\n",
    "plt.show()"
   ]
  },
  {
   "cell_type": "code",
   "execution_count": null,
   "metadata": {
    "collapsed": true
   },
   "outputs": [],
   "source": []
  }
 ],
 "metadata": {
  "kernelspec": {
   "display_name": "Python 3",
   "language": "python",
   "name": "python3"
  },
  "language_info": {
   "codemirror_mode": {
    "name": "ipython",
    "version": 3
   },
   "file_extension": ".py",
   "mimetype": "text/x-python",
   "name": "python",
   "nbconvert_exporter": "python",
   "pygments_lexer": "ipython3",
   "version": "3.6.3"
  }
 },
 "nbformat": 4,
 "nbformat_minor": 2
}
