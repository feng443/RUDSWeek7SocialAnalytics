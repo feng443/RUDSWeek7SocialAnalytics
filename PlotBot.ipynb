{
 "cells": [
  {
   "cell_type": "markdown",
   "metadata": {},
   "source": [
    "# PlotBot\n",
    "\n"
   ]
  },
  {
   "cell_type": "markdown",
   "metadata": {},
   "source": [
    "### Imports"
   ]
  },
  {
   "cell_type": "code",
   "execution_count": 1,
   "metadata": {},
   "outputs": [],
   "source": [
    "# Core\n",
    "from datetime import date\n",
    "from operator import itemgetter\n",
    "import json\n",
    "import re\n",
    "\n",
    "# Logging\n",
    "import sys\n",
    "import logging\n",
    "logging.basicConfig(\n",
    "    format='%(asctime)s | %(levelname)s : %(message)s',\n",
    "    stream=sys.stdout) # Needed in Jupyter. Comment out if only need to see in log file.\n",
    "\n",
    "# Scheduler\n",
    "import schedule\n",
    "\n",
    "# Numpy, Pandas and PyPlot\n",
    "import numpy as np\n",
    "import pandas as pd\n",
    "import matplotlib.pyplot as plt\n",
    "import seaborn as sns\n",
    "\n",
    "sns.set()\n",
    "sns.set_style(\n",
    "    'darkgrid', \n",
    "    {\n",
    "        'axes.facecolor': '0.9',\n",
    "        'axes.titlesize': 'x-large',\n",
    "        'figure.titlesize': 'x-large',\n",
    "    }\n",
    ")\n",
    "\n",
    "# API\n",
    "import tweepy\n",
    "from textblob import TextBlob\n",
    "from vaderSentiment.vaderSentiment import SentimentIntensityAnalyzer\n",
    "\n",
    "# Own\n",
    "from twitter_config import *"
   ]
  },
  {
   "cell_type": "markdown",
   "metadata": {},
   "source": [
    "### Constants and Globals"
   ]
  },
  {
   "cell_type": "code",
   "execution_count": 2,
   "metadata": {
    "collapsed": true
   },
   "outputs": [],
   "source": [
    "SLEEP_MINUTES = 5\n",
    "SLEEP_SECONDS = 60 * SLEEP_MINUTES\n",
    "PAGE_SIZE = 2\n",
    "PAGES = 2\n",
    "TODAY = date.today().strftime('%m/%d/%y')\n",
    "TARGET_USER = 'feng443'\n",
    "\n",
    "_AUTH = tweepy.OAuthHandler(TWITTER_CONSUMER_KEY, TWITTER_CONSUMER_SECRET)\n",
    "_AUTH.set_access_token(TWITTER_ACCESS_TOKEN, TWITTER_TOKEN_SECRET)\n",
    "\n",
    "TWITTER_API = tweepy.API(_AUTH, parser=tweepy.parsers.JSONParser())\n",
    "SENTIMENT_ANALYZER = SentimentIntensityAnalyzer()\n",
    "\n",
    "TWITTER_USER='feng443'\n",
    "\n",
    "DEBUG = True\n",
    "LOG_FILE = 'PlotBot.log'"
   ]
  },
  {
   "cell_type": "markdown",
   "metadata": {},
   "source": [
    "### Define PlotBot Class"
   ]
  },
  {
   "cell_type": "code",
   "execution_count": null,
   "metadata": {},
   "outputs": [],
   "source": [
    "class PlotBot(object):\n",
    "    \n",
    "    _analyzed = []\n",
    "    _to_analyze = []\n",
    "    _df = pd.DataFrame(index=pd.Index(\n",
    "        list(range(-PAGE_SIZE * PAGES)),\n",
    "        name='Tweets Ago'))\n",
    "    \n",
    "    @property\n",
    "    def data(self):\n",
    "        return self._df\n",
    "\n",
    "    @property\n",
    "    def logger(self):\n",
    "        logger = logging.getLogger('PlotBot')\n",
    "        if self._debug:\n",
    "            logger.setLevel(logging.DEBUG)\n",
    "        if self._log_file:\n",
    "            logger.addHandler(logging.FileHandler(self._log_file))\n",
    "        return logger\n",
    "    \n",
    "    def __init__(self, user=TWITTER_USER, debug=False, log_file=None):\n",
    "        self._user = user\n",
    "        self._re = re.compile('@PlotBot Analyze: @(\\w{1,15})')\n",
    "        self._debug = debug\n",
    "        self._log_file = log_file\n",
    "        \n",
    "    def _scan_tweets(self, user=TWITTER_USER, debug=True):\n",
    "        self.logger.info('Scan tweets ...')\n",
    "        self._tweets = []\n",
    "        for tweet in TWITTER_API.user_timeline(user, count=PAGE_SIZE):\n",
    "            targets = self._re.findall(tweet['text'])\n",
    "            if targets:\n",
    "                target = targets[0]\n",
    "                if target not in self._analyzed:\n",
    "                    self._to_analyze.append(target)\n",
    "                    \n",
    "                else:\n",
    "                    self.logger.info(f'{target} already analyzed. Skip.')\n",
    "    \n",
    "    def _analyze_all(self):\n",
    "        if not self._to_analyze:\n",
    "            self.logger.info('Nothing new.')\n",
    "            return\n",
    "\n",
    "        self.logger.info('Analyze all ...')\n",
    "        while self._to_analyze:\n",
    "            target = self._to_analyze.pop()\n",
    "            self._analyzed.append(target)\n",
    "            self._analyze(target)\n",
    "        self._plot()\n",
    "        self._tweet_out()\n",
    "    \n",
    "    def _analyze(self, target):\n",
    "        self.logger.info(f'Analyze {target}')\n",
    "        tweets_ago = 0\n",
    "        for page in range(PAGES):\n",
    "            for tweet in TWITTER_API.user_timeline(target, count=PAGE_SIZE, page=page):\n",
    "                self._df.at[tweets_ago, \n",
    "                        f'@{target}'] = SENTIMENT_ANALYZER.polarity_scores(tweet['text'])['compound']\n",
    "                tweets_ago -= 1\n",
    "    \n",
    "    def _plot(self):\n",
    "        fig, ax = plt.subplots(figsize=(8, 6))\n",
    "        bot.data.plot.line(\n",
    "            marker='o',\n",
    "            ax=ax,\n",
    "            alpha=0.8,\n",
    "        )\n",
    "        plt.legend(\n",
    "            title='Tweets',\n",
    "            bbox_to_anchor=(1.25, 1)\n",
    "        )\n",
    "        plt.title(f'Sentiments Analysis of Tweet ({TODAY})',\n",
    "            fontsize=16)\n",
    "        plt.ylabel('Tweet Polarity')\n",
    "        plt.gca().invert_xaxis()\n",
    "        \n",
    "        plt.savefig('plot_bot.png', bbox_inches='tight')\n",
    "        plt.show()\n",
    "        \n",
    "    def _tweet_out(self):\n",
    "        self.logger.info('Tweet out  ...')\n",
    "        TWITTER_API.update_with_media('plot_bot.png',\n",
    "                                      f'Sentiment Analsyis of Tweets ({TODAY})')\n",
    "        \n",
    "    def listen(self):\n",
    "        self._scan_tweets()\n",
    "        self._analyze_all()"
   ]
  },
  {
   "cell_type": "markdown",
   "metadata": {},
   "source": [
    "### Start the Daemon"
   ]
  },
  {
   "cell_type": "code",
   "execution_count": null,
   "metadata": {},
   "outputs": [
    {
     "name": "stdout",
     "output_type": "stream",
     "text": [
      "2018-03-18 17:35:29,325 | INFO : Scan tweets ...\n",
      "2018-03-18 17:35:29,593 | INFO : Analyze all ...\n",
      "2018-03-18 17:35:29,595 | INFO : Analyze CNN\n",
      "2018-03-18 17:35:30,357 | INFO : Analyze CBS\n"
     ]
    },
    {
     "data": {
      "image/png": "[encoded data removed]",
      "text/plain": [
       "<matplotlib.figure.Figure at 0x1c4a7897828>"
      ]
     },
     "metadata": {},
     "output_type": "display_data"
    },
    {
     "name": "stdout",
     "output_type": "stream",
     "text": [
      "2018-03-18 17:35:42,382 | INFO : Scan tweets ...\n",
      "2018-03-18 17:35:42,661 | INFO : CBS already analyzed. Skip.\n",
      "2018-03-18 17:35:42,664 | INFO : Nothing new.\n",
      "2018-03-18 17:35:52,666 | INFO : Scan tweets ...\n",
      "2018-03-18 17:35:52,952 | INFO : CBS already analyzed. Skip.\n",
      "2018-03-18 17:35:52,954 | INFO : Nothing new.\n",
      "2018-03-18 17:36:02,956 | INFO : Scan tweets ...\n",
      "2018-03-18 17:36:03,185 | INFO : CBS already analyzed. Skip.\n",
      "2018-03-18 17:36:03,187 | INFO : CNN already analyzed. Skip.\n",
      "2018-03-18 17:36:03,189 | INFO : Nothing new.\n"
     ]
    }
   ],
   "source": [
    "schedule.clear()\n",
    "bot = PlotBot(debug=DEBUG, log_file=LOG_FILE)\n",
    "schedule.every(10).seconds.do(bot.listen)\n",
    "    \n",
    "while True:\n",
    "    schedule.run_pending()"
   ]
  },
  {
   "cell_type": "code",
   "execution_count": null,
   "metadata": {
    "collapsed": true
   },
   "outputs": [],
   "source": []
  }
 ],
 "metadata": {
  "kernelspec": {
   "display_name": "Python 3",
   "language": "python",
   "name": "python3"
  },
  "language_info": {
   "codemirror_mode": {
    "name": "ipython",
    "version": 3
   },
   "file_extension": ".py",
   "mimetype": "text/x-python",
   "name": "python",
   "nbconvert_exporter": "python",
   "pygments_lexer": "ipython3",
   "version": "3.6.3"
  }
 },
 "nbformat": 4,
 "nbformat_minor": 2
}
